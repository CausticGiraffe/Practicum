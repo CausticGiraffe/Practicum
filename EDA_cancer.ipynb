{
 "cells": [
  {
   "cell_type": "markdown",
   "metadata": {},
   "source": [
    "# EDA Cervix Cancer "
   ]
  },
  {
   "cell_type": "code",
   "execution_count": 1,
   "metadata": {
    "collapsed": false
   },
   "outputs": [
    {
     "name": "stderr",
     "output_type": "stream",
     "text": [
      "Using TensorFlow backend.\n"
     ]
    },
    {
     "data": {
      "text/html": [
       "<script>requirejs.config({paths: { 'plotly': ['https://cdn.plot.ly/plotly-latest.min']},});if(!window.Plotly) {{require(['plotly'],function(plotly) {window.Plotly=plotly;});}}</script>"
      ],
      "text/vnd.plotly.v1+html": [
       "<script>requirejs.config({paths: { 'plotly': ['https://cdn.plot.ly/plotly-latest.min']},});if(!window.Plotly) {{require(['plotly'],function(plotly) {window.Plotly=plotly;});}}</script>"
      ]
     },
     "metadata": {},
     "output_type": "display_data"
    },
    {
     "name": "stdout",
     "output_type": "stream",
     "text": [
      "Type_1\n",
      "Type_2\n",
      "Type_3\n",
      "\n"
     ]
    }
   ],
   "source": [
    "#Dependancies \n",
    "import numpy as np \n",
    "import pandas as pd\n",
    "import seaborn as sns \n",
    "import cv2\n",
    "import skimage.io as io\n",
    "import keras\n",
    "import os\n",
    "import glob\n",
    "import matplotlib.pyplot as plt\n",
    "%matplotlib inline\n",
    "import plotly.offline as py\n",
    "import plotly.graph_objs as go\n",
    "import plotly.tools as tls \n",
    "py.init_notebook_mode(connected=True)\n",
    "import random \n",
    "import shutil\n",
    "\n",
    "from skimage.io import imread, imshow\n",
    "from keras.models import Sequential\n",
    "from keras.layers import Activation, Dropout, Flatten, Dense, Reshape\n",
    "from keras.preprocessing.image import ImageDataGenerator\n",
    "from keras.layers import Convolution2D, MaxPooling2D, ZeroPadding2D\n",
    "from keras import optimizers\n",
    "\n",
    "from subprocess import check_output\n",
    "print(check_output([\"ls\", \"/home/kray/Practicum/train\"]).decode(\"utf8\"))\n",
    "\n",
    "from keras.models import Sequential\n",
    "from keras.layers.core import Dense, Activation, Flatten, Dropout\n",
    "from keras.layers.convolutional import Convolution2D, MaxPooling2D\n",
    "from keras.layers.normalization import BatchNormalization\n",
    "from keras.utils import np_utils\n",
    "from keras.optimizers import SGD\n",
    "from sklearn.utils import shuffle\n",
    "from keras.utils.np_utils import to_categorical\n",
    "from keras import backend as K"
   ]
  },
  {
   "cell_type": "code",
   "execution_count": 2,
   "metadata": {
    "collapsed": false
   },
   "outputs": [
    {
     "name": "stdout",
     "output_type": "stream",
     "text": [
      "249 photos of cervix type Type_1\n",
      "781 photos of cervix type Type_2\n",
      "450 photos of cervix type Type_3\n"
     ]
    },
    {
     "data": {
      "image/png": "[encoded data removed]",
      "text/plain": [
       "<matplotlib.figure.Figure at 0x7f34a2e6f860>"
      ]
     },
     "metadata": {},
     "output_type": "display_data"
    }
   ],
   "source": [
    "# Number of images for each cervix type in train with plot.\n",
    "# Code modified from Poonam Ligade, Intel cervical cancer EDA https://www.kaggle.com/poonaml/intel-cervical-cancer-eda \n",
    "sub_folders = check_output([\"ls\", \"/home/kray/Practicum/train\"]).decode(\"utf8\").strip().split('\\n')\n",
    "count_dict = {}\n",
    "for sub_folder in sub_folders:\n",
    "    num_of_files = len(check_output([\"ls\", \"/home/kray/Practicum/train/\"+sub_folder]).decode(\"utf8\").strip().split('\\n'))\n",
    "    print(\"{0} photos of cervix type {1}\".format(num_of_files, sub_folder))\n",
    "                            \n",
    "    count_dict[sub_folder] = num_of_files\n",
    "                            \n",
    "plt.figure(figsize=(12,4))\n",
    "sns.barplot(list(count_dict.keys()), list(count_dict.values()), alpha = 0.8)\n",
    "plt.xlabel('Cervix types', fontsize = 11)\n",
    "plt.ylabel('Number of images in train', fontsize = 11)\n",
    "plt.title('train dataset')\n",
    "                            \n",
    "plt.show()"
   ]
  },
  {
   "cell_type": "code",
   "execution_count": 3,
   "metadata": {
    "collapsed": false
   },
   "outputs": [
    {
     "name": "stdout",
     "output_type": "stream",
     "text": [
      "Number of test images present: 512\n"
     ]
    }
   ],
   "source": [
    "#Number of test images. \n",
    "num_test_files = len(check_output([\"ls\", \"/home/kray/Practicum/test/\"]).decode(\"utf8\").strip().split('\\n'))\n",
    "print(\"Number of test images present:\", num_test_files)"
   ]
  },
  {
   "cell_type": "code",
   "execution_count": null,
   "metadata": {
    "collapsed": false
   },
   "outputs": [],
   "source": [
    "fig = plt.figure(figsize = (12, 8))\n",
    "\n",
    "i = 1\n",
    "for t in \"/home/kray/Practicum/train\"['type'].unique():\n",
    "    ax = fig.add_subplot(1,3,i)\n",
    "    i +=1\n",
    "    f = \"/home/kray/Practicum/train\"[\"/home/kray/Practicum/train\"['type'] == t]['imagepath'].values[0]\n",
    "    plt.imshow(plt.imread(f))\n",
    "    plt.title('sample for cervix {}'.format(t))"
   ]
  },
  {
   "cell_type": "code",
   "execution_count": null,
   "metadata": {
    "collapsed": false
   },
   "outputs": [],
   "source": [
    "# Image size distribution, barplot. \n",
    "# Code modified from Poonam Ligade, Intel cervical cancer EDA https://www.kaggle.com/poonaml/intel-cervical-cancer-eda \n",
    "\n",
    "plt.figure(figsize=(12,4))\n",
    "#sns.barplot(list(different_file_sizes.values()), list(different_file_sizes.keys()), alpha = 0.8)\n",
    "import pprint\n",
    "pprint.pprint(different_file_sizes)\n",
    "#plt.ylabel('Image size', fontsize = 11)plt.xlabel('Number of images in train', fontsize = 11)\n",
    "plt.title(\"Image sizes present in train dataset\")\n",
    "plt.show()"
   ]
  },
  {
   "cell_type": "markdown",
   "metadata": {},
   "source": [
    "Split dataset train and validation"
   ]
  },
  {
   "cell_type": "code",
   "execution_count": 4,
   "metadata": {
    "collapsed": false
   },
   "outputs": [
    {
     "name": "stdout",
     "output_type": "stream",
     "text": [
      "Train images: 1036\n",
      "Validation images 444\n"
     ]
    }
   ],
   "source": [
    "#Split data into training and validation sets, keeping file organization. \n",
    "allFiles = glob.glob('/home/kray/Practicum/train/*/*')\n",
    "\n",
    "split_point = int(round(0.7*len(allFiles)))\n",
    "random.shuffle(allFiles)\n",
    "\n",
    "train_list = allFiles[:split_point]\n",
    "valid_list = allFiles[split_point:]\n",
    "print('Train images: {}'.format(len(train_list)))\n",
    "print('Validation images {}'. format(len(valid_list)))\n",
    "\n",
    "# Divy them into their own directories.\n",
    "train_data_path = '/home/kray/Practicum/train_data'\n",
    "validation_data_path = '/home/kray/Practicum/valid_data'\n",
    "if not os.path.exists(train_data_path):\n",
    "    os.makedirs(train_data_path)\n",
    "if not os.path.exists(validation_data_path):\n",
    "    os.makedirs(validation_data_path)\n",
    "\n",
    "for fpath in train_list:\n",
    "    basename = fpath.split('/')[-2:]\n",
    "    dest = '/'.join([train_data_path] +basename)\n",
    "    if not os.path.exists('/'.join(dest.split('/')[:-1])):\n",
    "        os.makedirs('/'.join(dest.split('/')[:-1]))\n",
    "    shutil.copyfile(fpath, '/'.join([train_data_path] +basename))\n",
    "for fpath in valid_list:\n",
    "    basename = fpath.split('/')[-2:]\n",
    "    dest = '/'.join([validation_data_path] +basename)\n",
    "    if not os.path.exists('/'.join(dest.split('/')[:-1])):\n",
    "        os.makedirs('/'.join(dest.split('/')[:-1]))    \n",
    "    shutil.copyfile(fpath, '/'.join([validation_data_path] +basename))"
   ]
  },
  {
   "cell_type": "code",
   "execution_count": 5,
   "metadata": {
    "collapsed": false
   },
   "outputs": [
    {
     "name": "stdout",
     "output_type": "stream",
     "text": [
      "/home/kray/Practicum/train/Type_2/974.jpg\n"
     ]
    },
    {
     "data": {
      "text/plain": [
       "41"
      ]
     },
     "execution_count": 5,
     "metadata": {},
     "output_type": "execute_result"
    }
   ],
   "source": [
    "print(train_list[0])\n",
    "type(train_list[0])\n",
    "len(train_list[0])"
   ]
  },
  {
   "cell_type": "code",
   "execution_count": 6,
   "metadata": {
    "collapsed": false
   },
   "outputs": [
    {
     "data": {
      "text/plain": [
       "<matplotlib.image.AxesImage at 0x7f34a2222048>"
      ]
     },
     "execution_count": 6,
     "metadata": {},
     "output_type": "execute_result"
    },
    {
     "data": {
      "image/png": "[encoded data removed]",
      "text/plain": [
       "<matplotlib.figure.Figure at 0x7f34a2326358>"
      ]
     },
     "metadata": {},
     "output_type": "display_data"
    }
   ],
   "source": [
    "io.imshow(train_list[0])"
   ]
  },
  {
   "cell_type": "code",
   "execution_count": null,
   "metadata": {
    "collapsed": false
   },
   "outputs": [],
   "source": [
    "K.set_image_dim_ordering('tf')\n",
    "\n",
    "# Create numpy array\n",
    "train_image_list = list()\n",
    "train_label_list = list()\n",
    "for image in train_list[:10]:\n",
    "    im = cv2.imread(image)\n",
    "    im_type = image.split('/')[-2]\n",
    "    train_label_list.append(im_type)\n",
    "    train_image_list.append(im)\n",
    "print (train_label_list)\n",
    "print(train_image_list)\n",
    "\n",
    "# Reshape\n",
    "train_list = train_list.reshape(train_list[0], 100, 100, 3).astype('float32')\n",
    "valid_list = Reshape(valid_list[0], 100, 100, 3).astype('float32')\n"
   ]
  },
  {
   "cell_type": "code",
   "execution_count": null,
   "metadata": {
    "collapsed": false
   },
   "outputs": [],
   "source": [
    "print(train_list.shape)"
   ]
  },
  {
   "cell_type": "markdown",
   "metadata": {},
   "source": [
    "# Model"
   ]
  },
  {
   "cell_type": "code",
   "execution_count": 8,
   "metadata": {
    "collapsed": true
   },
   "outputs": [],
   "source": [
    "#dimensions of images\n",
    "img_width, img_height = 255, 255"
   ]
  },
  {
   "cell_type": "code",
   "execution_count": 9,
   "metadata": {
    "collapsed": false
   },
   "outputs": [
    {
     "ename": "TypeError",
     "evalue": "listdir: path should be string, bytes, os.PathLike, integer or None, not list",
     "output_type": "error",
     "traceback": [
      "\u001b[0;31m---------------------------------------------------------------------------\u001b[0m",
      "\u001b[0;31mTypeError\u001b[0m                                 Traceback (most recent call last)",
      "\u001b[0;32m<ipython-input-9-43f7de5c0c33>\u001b[0m in \u001b[0;36m<module>\u001b[0;34m()\u001b[0m\n\u001b[1;32m      7\u001b[0m         \u001b[0mtarget_size\u001b[0m\u001b[0;34m=\u001b[0m\u001b[0;34m(\u001b[0m\u001b[0mimg_width\u001b[0m\u001b[0;34m,\u001b[0m \u001b[0mimg_height\u001b[0m\u001b[0;34m)\u001b[0m\u001b[0;34m,\u001b[0m\u001b[0;34m\u001b[0m\u001b[0m\n\u001b[1;32m      8\u001b[0m         \u001b[0mbatch_size\u001b[0m\u001b[0;34m=\u001b[0m\u001b[0;36m16\u001b[0m\u001b[0;34m,\u001b[0m\u001b[0;34m\u001b[0m\u001b[0m\n\u001b[0;32m----> 9\u001b[0;31m         class_mode='binary')\n\u001b[0m\u001b[1;32m     10\u001b[0m \u001b[0;34m\u001b[0m\u001b[0m\n\u001b[1;32m     11\u001b[0m validation_generator = datagen.flow_from_directory(\n",
      "\u001b[0;32m/home/kray/anaconda3/lib/python3.6/site-packages/keras/preprocessing/image.py\u001b[0m in \u001b[0;36mflow_from_directory\u001b[0;34m(self, directory, target_size, color_mode, classes, class_mode, batch_size, shuffle, seed, save_to_dir, save_prefix, save_format, follow_links)\u001b[0m\n\u001b[1;32m    311\u001b[0m             \u001b[0mbatch_size\u001b[0m\u001b[0;34m=\u001b[0m\u001b[0mbatch_size\u001b[0m\u001b[0;34m,\u001b[0m \u001b[0mshuffle\u001b[0m\u001b[0;34m=\u001b[0m\u001b[0mshuffle\u001b[0m\u001b[0;34m,\u001b[0m \u001b[0mseed\u001b[0m\u001b[0;34m=\u001b[0m\u001b[0mseed\u001b[0m\u001b[0;34m,\u001b[0m\u001b[0;34m\u001b[0m\u001b[0m\n\u001b[1;32m    312\u001b[0m             \u001b[0msave_to_dir\u001b[0m\u001b[0;34m=\u001b[0m\u001b[0msave_to_dir\u001b[0m\u001b[0;34m,\u001b[0m \u001b[0msave_prefix\u001b[0m\u001b[0;34m=\u001b[0m\u001b[0msave_prefix\u001b[0m\u001b[0;34m,\u001b[0m \u001b[0msave_format\u001b[0m\u001b[0;34m=\u001b[0m\u001b[0msave_format\u001b[0m\u001b[0;34m,\u001b[0m\u001b[0;34m\u001b[0m\u001b[0m\n\u001b[0;32m--> 313\u001b[0;31m             follow_links=follow_links)\n\u001b[0m\u001b[1;32m    314\u001b[0m \u001b[0;34m\u001b[0m\u001b[0m\n\u001b[1;32m    315\u001b[0m     \u001b[0;32mdef\u001b[0m \u001b[0mstandardize\u001b[0m\u001b[0;34m(\u001b[0m\u001b[0mself\u001b[0m\u001b[0;34m,\u001b[0m \u001b[0mx\u001b[0m\u001b[0;34m)\u001b[0m\u001b[0;34m:\u001b[0m\u001b[0;34m\u001b[0m\u001b[0m\n",
      "\u001b[0;32m/home/kray/anaconda3/lib/python3.6/site-packages/keras/preprocessing/image.py\u001b[0m in \u001b[0;36m__init__\u001b[0;34m(self, directory, image_data_generator, target_size, color_mode, dim_ordering, classes, class_mode, batch_size, shuffle, seed, save_to_dir, save_prefix, save_format, follow_links)\u001b[0m\n\u001b[1;32m    635\u001b[0m         \u001b[0;32mif\u001b[0m \u001b[0;32mnot\u001b[0m \u001b[0mclasses\u001b[0m\u001b[0;34m:\u001b[0m\u001b[0;34m\u001b[0m\u001b[0m\n\u001b[1;32m    636\u001b[0m             \u001b[0mclasses\u001b[0m \u001b[0;34m=\u001b[0m \u001b[0;34m[\u001b[0m\u001b[0;34m]\u001b[0m\u001b[0;34m\u001b[0m\u001b[0m\n\u001b[0;32m--> 637\u001b[0;31m             \u001b[0;32mfor\u001b[0m \u001b[0msubdir\u001b[0m \u001b[0;32min\u001b[0m \u001b[0msorted\u001b[0m\u001b[0;34m(\u001b[0m\u001b[0mos\u001b[0m\u001b[0;34m.\u001b[0m\u001b[0mlistdir\u001b[0m\u001b[0;34m(\u001b[0m\u001b[0mdirectory\u001b[0m\u001b[0;34m)\u001b[0m\u001b[0;34m)\u001b[0m\u001b[0;34m:\u001b[0m\u001b[0;34m\u001b[0m\u001b[0m\n\u001b[0m\u001b[1;32m    638\u001b[0m                 \u001b[0;32mif\u001b[0m \u001b[0mos\u001b[0m\u001b[0;34m.\u001b[0m\u001b[0mpath\u001b[0m\u001b[0;34m.\u001b[0m\u001b[0misdir\u001b[0m\u001b[0;34m(\u001b[0m\u001b[0mos\u001b[0m\u001b[0;34m.\u001b[0m\u001b[0mpath\u001b[0m\u001b[0;34m.\u001b[0m\u001b[0mjoin\u001b[0m\u001b[0;34m(\u001b[0m\u001b[0mdirectory\u001b[0m\u001b[0;34m,\u001b[0m \u001b[0msubdir\u001b[0m\u001b[0;34m)\u001b[0m\u001b[0;34m)\u001b[0m\u001b[0;34m:\u001b[0m\u001b[0;34m\u001b[0m\u001b[0m\n\u001b[1;32m    639\u001b[0m                     \u001b[0mclasses\u001b[0m\u001b[0;34m.\u001b[0m\u001b[0mappend\u001b[0m\u001b[0;34m(\u001b[0m\u001b[0msubdir\u001b[0m\u001b[0;34m)\u001b[0m\u001b[0;34m\u001b[0m\u001b[0m\n",
      "\u001b[0;31mTypeError\u001b[0m: listdir: path should be string, bytes, os.PathLike, integer or None, not list"
     ]
    }
   ],
   "source": [
    "# used to rescale the pixel values from [0, 255] to [0, 1] interval\n",
    "datagen = ImageDataGenerator(rescale=1./255)\n",
    "\n",
    "# automagically retrieve images and their classes for train and validation sets\n",
    "train_generator = datagen.flow_from_directory(\n",
    "        train_list,\n",
    "        target_size=(img_width, img_height),\n",
    "        batch_size=16,\n",
    "        class_mode='binary')\n",
    "\n",
    "validation_generator = datagen.flow_from_directory(\n",
    "        valid_list,\n",
    "        target_size=(img_width, img_height),\n",
    "        batch_size=32,\n",
    "        class_mode='binary')"
   ]
  },
  {
   "cell_type": "code",
   "execution_count": null,
   "metadata": {
    "collapsed": false
   },
   "outputs": [],
   "source": [
    "model = Sequential()\n",
    "model.add(Convolution2D(32, 3, 3, input_shape=(img_width, img_height,3)))\n",
    "model.add(Activation('relu'))\n",
    "model.add(MaxPooling2D(pool_size=(2, 2)))\n",
    "\n",
    "model.add(Convolution2D(32, 3, 3))\n",
    "model.add(Activation('relu'))\n",
    "model.add(MaxPooling2D(pool_size=(2, 2)))\n",
    "\n",
    "model.add(Convolution2D(64, 3, 3))\n",
    "model.add(Activation('relu'))\n",
    "model.add(MaxPooling2D(pool_size=(2, 2)))\n",
    "\n",
    "model.add(Flatten())\n",
    "model.add(Dense(64))\n",
    "model.add(Activation('relu'))\n",
    "model.add(Dropout(0.5))\n",
    "model.add(Dense(1))\n",
    "model.add(Activation('sigmoid'))"
   ]
  },
  {
   "cell_type": "code",
   "execution_count": null,
   "metadata": {
    "collapsed": true
   },
   "outputs": [],
   "source": [
    "# Compile model\n",
    "model.compile(loss = \"categorical_crossentropy\", optimizer = 'adam', metrics = ['accuracy']) "
   ]
  },
  {
   "cell_type": "code",
   "execution_count": null,
   "metadata": {
    "collapsed": true
   },
   "outputs": [],
   "source": [
    "# Training\n",
    "nb_epoch = 5\n",
    "nb_train_samples = 1036\n",
    "nb_validation_samples = 444"
   ]
  },
  {
   "cell_type": "code",
   "execution_count": null,
   "metadata": {
    "collapsed": false
   },
   "outputs": [],
   "source": [
    "model.fit_generator(\n",
    "        train_list,\n",
    "        samples_per_epoch = nb_train_samples,\n",
    "        nb_epoch = nb_epoch,\n",
    "        valid_list = valid_list,\n",
    "        nb_val_samples = nb_validation_samples)"
   ]
  },
  {
   "cell_type": "code",
   "execution_count": null,
   "metadata": {
    "collapsed": true
   },
   "outputs": [],
   "source": []
  },
  {
   "cell_type": "code",
   "execution_count": null,
   "metadata": {
    "collapsed": true
   },
   "outputs": [],
   "source": [
    "# second CNN model\n",
    "# batch generator \n",
    "\n",
    "def batch_generator_train(files, batch_size):\n",
    "    number_of_batches = np.ceil(len(files)/batch_size)\n",
    "    counter = 0\n",
    "    random.shuffle(files)\n",
    "    while True:\n",
    "        batch_files = files[batch_size*counter:batch_size*(counter+1)]\n",
    "        image_list = []\n",
    "        mask_list = []\n",
    "        for f in batch_files:\n",
    "            image = cv2.imread(f)\n",
    "            image = cv2.resize(image, conf['image_shape'])\n",
    "\n",
    "            train_label_list = f[20:21] # relies on path lengths that is hard coded below\n",
    "            if cancer_type == '1':\n",
    "                mask = [1, 0, 0]\n",
    "            elif cancer_type == '2':\n",
    "                mask = [0, 1, 0]\n",
    "            else:\n",
    "                mask = [0, 0, 1]\n",
    "\n",
    "            image_list.append(image)\n",
    "            mask_list.append(mask)\n",
    "        counter += 1\n",
    "        image_list = np.array(image_list)\n",
    "        mask_list = np.array(mask_list)\n",
    "\n",
    "        yield image_list, mask_list\n",
    "\n",
    "        if counter == number_of_batches:\n",
    "            random.shuffle(files)\n",
    "            counter = 0"
   ]
  },
  {
   "cell_type": "code",
   "execution_count": null,
   "metadata": {
    "collapsed": false
   },
   "outputs": [],
   "source": [
    "# used to rescale the pixel values from [0, 255] to [0, 1] interval\n",
    "# Code modified from Siraj Raval, Intro to Deep Learning https://github.com/llSourcell/how_to_make_an_image_classifier/blob/master/demo.ipynb\n",
    "\n",
    "datagen = ImageDataGenerator(rescale = 1./255)\n",
    "\n",
    "# automagically retrieve images and their classes for train and validation sets\n",
    "# Code modified from Siraj Raval, Intro to Deep Learning https://github.com/llSourcell/how_to_make_an_image_classifier/blob/master/demo.ipynb\n",
    "\n",
    "train_generator = datagen.flow_from_directory(\n",
    "        train_list,\n",
    "        target_size=(img_width, img_height),\n",
    "        batch_size=16,\n",
    "        class_mode='binary')\n",
    "\n",
    "validation_generator = datagen.flow_from_directory(\n",
    "        validation_list,\n",
    "        target_size=(img_width, img_height),\n",
    "        batch_size=32,\n",
    "        class_mode='binary')"
   ]
  },
  {
   "cell_type": "code",
   "execution_count": 10,
   "metadata": {
    "collapsed": false
   },
   "outputs": [],
   "source": [
    "# Simple CNN model.\n",
    "# Code modified from libphy https://github.com/libphy/dldev/blob/master/MNIST-Keras.ipynb\n",
    "\n",
    "def simple_cnn_model():\n",
    "    model = Sequential()\n",
    "    model.add(Convolution2D(32, 3, 3, input_shape=(img_width, img_height,3), activation = 'relu'))\n",
    "    model.add(MaxPooling2D(pool_size = (2, 2)))\n",
    "    model.add(Dropout(0.2))\n",
    "    model.add(Flatten())\n",
    "    model.add(Dense(64, activation = 'relu'))\n",
    "    #model.add(Dense(num_classes, activation = 'softmax'))\n",
    "    # Compile model\n",
    "    # Code modified from libphy https://github.com/libphy/dldev/blob/master/MNIST-Keras.ipynb\n",
    "\n",
    "    model.compile(loss = \"categorical_crossentropy\", optimizer = 'adam', metrics = ['accuracy']) \n",
    "    return model\n",
    "\n",
    "# Build model\n",
    "model = simple_cnn_model()"
   ]
  },
  {
   "cell_type": "code",
   "execution_count": 11,
   "metadata": {
    "collapsed": false
   },
   "outputs": [
    {
     "name": "stdout",
     "output_type": "stream",
     "text": [
      "['Type_2', 'Type_2', 'Type_3', 'Type_2', 'Type_2', 'Type_2', 'Type_2', 'Type_3', 'Type_2', 'Type_2']\n",
      "[array([[[0, 0, 0],\n",
      "        [0, 0, 0],\n",
      "        [0, 0, 0],\n",
      "        ..., \n",
      "        [1, 0, 2],\n",
      "        [1, 0, 2],\n",
      "        [1, 0, 2]],\n",
      "\n",
      "       [[0, 0, 0],\n",
      "        [0, 0, 0],\n",
      "        [0, 0, 0],\n",
      "        ..., \n",
      "        [1, 0, 2],\n",
      "        [1, 0, 2],\n",
      "        [1, 0, 2]],\n",
      "\n",
      "       [[0, 0, 0],\n",
      "        [0, 0, 0],\n",
      "        [0, 0, 0],\n",
      "        ..., \n",
      "        [1, 0, 2],\n",
      "        [1, 0, 2],\n",
      "        [1, 0, 2]],\n",
      "\n",
      "       ..., \n",
      "       [[3, 1, 1],\n",
      "        [3, 0, 2],\n",
      "        [3, 0, 2],\n",
      "        ..., \n",
      "        [3, 0, 2],\n",
      "        [3, 0, 2],\n",
      "        [3, 0, 2]],\n",
      "\n",
      "       [[5, 3, 3],\n",
      "        [5, 3, 3],\n",
      "        [5, 3, 3],\n",
      "        ..., \n",
      "        [5, 2, 4],\n",
      "        [5, 2, 4],\n",
      "        [5, 2, 4]],\n",
      "\n",
      "       [[6, 4, 4],\n",
      "        [6, 4, 4],\n",
      "        [6, 4, 3],\n",
      "        ..., \n",
      "        [6, 3, 5],\n",
      "        [6, 3, 5],\n",
      "        [6, 3, 5]]], dtype=uint8), array([[[0, 0, 0],\n",
      "        [0, 0, 0],\n",
      "        [0, 0, 0],\n",
      "        ..., \n",
      "        [1, 1, 1],\n",
      "        [0, 0, 0],\n",
      "        [0, 0, 0]],\n",
      "\n",
      "       [[0, 0, 0],\n",
      "        [0, 0, 0],\n",
      "        [0, 0, 0],\n",
      "        ..., \n",
      "        [0, 0, 0],\n",
      "        [0, 0, 0],\n",
      "        [0, 0, 0]],\n",
      "\n",
      "       [[0, 0, 0],\n",
      "        [0, 0, 0],\n",
      "        [0, 0, 0],\n",
      "        ..., \n",
      "        [0, 0, 0],\n",
      "        [0, 0, 0],\n",
      "        [0, 0, 0]],\n",
      "\n",
      "       ..., \n",
      "       [[0, 0, 0],\n",
      "        [0, 0, 0],\n",
      "        [0, 0, 0],\n",
      "        ..., \n",
      "        [0, 0, 0],\n",
      "        [1, 1, 1],\n",
      "        [1, 1, 1]],\n",
      "\n",
      "       [[0, 0, 0],\n",
      "        [0, 0, 0],\n",
      "        [0, 0, 0],\n",
      "        ..., \n",
      "        [0, 0, 0],\n",
      "        [0, 0, 0],\n",
      "        [0, 0, 0]],\n",
      "\n",
      "       [[1, 1, 1],\n",
      "        [0, 0, 0],\n",
      "        [1, 1, 1],\n",
      "        ..., \n",
      "        [2, 2, 2],\n",
      "        [0, 0, 0],\n",
      "        [0, 0, 0]]], dtype=uint8), array([[[0, 0, 0],\n",
      "        [0, 0, 0],\n",
      "        [0, 0, 0],\n",
      "        ..., \n",
      "        [0, 0, 0],\n",
      "        [0, 0, 0],\n",
      "        [0, 0, 0]],\n",
      "\n",
      "       [[0, 0, 0],\n",
      "        [0, 0, 0],\n",
      "        [0, 0, 0],\n",
      "        ..., \n",
      "        [0, 0, 0],\n",
      "        [0, 0, 0],\n",
      "        [0, 0, 0]],\n",
      "\n",
      "       [[0, 0, 0],\n",
      "        [0, 0, 0],\n",
      "        [0, 0, 0],\n",
      "        ..., \n",
      "        [0, 0, 0],\n",
      "        [0, 0, 0],\n",
      "        [0, 0, 0]],\n",
      "\n",
      "       ..., \n",
      "       [[0, 0, 0],\n",
      "        [0, 0, 0],\n",
      "        [0, 0, 0],\n",
      "        ..., \n",
      "        [0, 0, 0],\n",
      "        [0, 0, 0],\n",
      "        [0, 0, 0]],\n",
      "\n",
      "       [[0, 0, 0],\n",
      "        [0, 0, 0],\n",
      "        [0, 0, 0],\n",
      "        ..., \n",
      "        [0, 0, 1],\n",
      "        [0, 0, 0],\n",
      "        [0, 0, 0]],\n",
      "\n",
      "       [[0, 0, 0],\n",
      "        [0, 0, 0],\n",
      "        [0, 0, 0],\n",
      "        ..., \n",
      "        [2, 0, 1],\n",
      "        [0, 0, 0],\n",
      "        [0, 1, 0]]], dtype=uint8), array([[[ 0,  2,  0],\n",
      "        [ 0,  3,  1],\n",
      "        [ 0,  3,  1],\n",
      "        ..., \n",
      "        [ 3,  1,  0],\n",
      "        [ 3,  1,  0],\n",
      "        [ 3,  1,  0]],\n",
      "\n",
      "       [[ 0,  2,  0],\n",
      "        [ 0,  3,  1],\n",
      "        [ 0,  3,  1],\n",
      "        ..., \n",
      "        [ 3,  1,  0],\n",
      "        [ 3,  1,  0],\n",
      "        [ 3,  1,  0]],\n",
      "\n",
      "       [[ 0,  2,  0],\n",
      "        [ 0,  3,  1],\n",
      "        [ 0,  2,  0],\n",
      "        ..., \n",
      "        [ 3,  1,  0],\n",
      "        [ 3,  1,  0],\n",
      "        [ 3,  1,  0]],\n",
      "\n",
      "       ..., \n",
      "       [[ 9,  4,  1],\n",
      "        [ 7,  4,  0],\n",
      "        [10,  7,  2],\n",
      "        ..., \n",
      "        [ 0,  0,  0],\n",
      "        [ 0,  0,  0],\n",
      "        [ 0,  0,  0]],\n",
      "\n",
      "       [[ 8,  3,  0],\n",
      "        [ 9,  5,  0],\n",
      "        [11,  7,  2],\n",
      "        ..., \n",
      "        [ 0,  0,  0],\n",
      "        [ 0,  0,  0],\n",
      "        [ 0,  0,  0]],\n",
      "\n",
      "       [[ 9,  5,  0],\n",
      "        [13,  7,  0],\n",
      "        [13,  7,  0],\n",
      "        ..., \n",
      "        [ 0,  0,  0],\n",
      "        [ 0,  0,  0],\n",
      "        [ 0,  0,  0]]], dtype=uint8), array([[[0, 0, 0],\n",
      "        [0, 0, 0],\n",
      "        [0, 0, 0],\n",
      "        ..., \n",
      "        [4, 0, 0],\n",
      "        [4, 2, 2],\n",
      "        [5, 3, 3]],\n",
      "\n",
      "       [[1, 1, 1],\n",
      "        [0, 1, 1],\n",
      "        [0, 2, 2],\n",
      "        ..., \n",
      "        [2, 0, 0],\n",
      "        [2, 0, 0],\n",
      "        [2, 0, 0]],\n",
      "\n",
      "       [[1, 1, 1],\n",
      "        [1, 1, 1],\n",
      "        [2, 2, 2],\n",
      "        ..., \n",
      "        [3, 1, 0],\n",
      "        [0, 0, 0],\n",
      "        [0, 0, 0]],\n",
      "\n",
      "       ..., \n",
      "       [[1, 1, 1],\n",
      "        [0, 0, 0],\n",
      "        [0, 0, 0],\n",
      "        ..., \n",
      "        [0, 1, 0],\n",
      "        [0, 1, 0],\n",
      "        [0, 1, 0]],\n",
      "\n",
      "       [[0, 0, 0],\n",
      "        [0, 0, 0],\n",
      "        [1, 1, 1],\n",
      "        ..., \n",
      "        [0, 1, 0],\n",
      "        [0, 1, 0],\n",
      "        [0, 1, 0]],\n",
      "\n",
      "       [[0, 0, 0],\n",
      "        [0, 0, 0],\n",
      "        [1, 1, 1],\n",
      "        ..., \n",
      "        [0, 2, 0],\n",
      "        [0, 1, 0],\n",
      "        [0, 1, 0]]], dtype=uint8), array([[[3, 2, 0],\n",
      "        [0, 1, 0],\n",
      "        [1, 2, 0],\n",
      "        ..., \n",
      "        [0, 0, 0],\n",
      "        [0, 0, 0],\n",
      "        [0, 0, 0]],\n",
      "\n",
      "       [[0, 2, 0],\n",
      "        [1, 2, 0],\n",
      "        [3, 2, 0],\n",
      "        ..., \n",
      "        [2, 2, 2],\n",
      "        [2, 2, 2],\n",
      "        [3, 3, 3]],\n",
      "\n",
      "       [[0, 3, 0],\n",
      "        [0, 1, 0],\n",
      "        [2, 1, 0],\n",
      "        ..., \n",
      "        [1, 1, 1],\n",
      "        [4, 4, 4],\n",
      "        [4, 4, 4]],\n",
      "\n",
      "       ..., \n",
      "       [[1, 1, 1],\n",
      "        [0, 0, 0],\n",
      "        [1, 1, 1],\n",
      "        ..., \n",
      "        [2, 2, 2],\n",
      "        [1, 1, 1],\n",
      "        [1, 1, 1]],\n",
      "\n",
      "       [[1, 1, 1],\n",
      "        [0, 0, 0],\n",
      "        [0, 0, 0],\n",
      "        ..., \n",
      "        [3, 3, 3],\n",
      "        [1, 1, 1],\n",
      "        [0, 0, 0]],\n",
      "\n",
      "       [[0, 0, 0],\n",
      "        [0, 0, 0],\n",
      "        [1, 1, 1],\n",
      "        ..., \n",
      "        [2, 2, 2],\n",
      "        [1, 1, 1],\n",
      "        [0, 0, 0]]], dtype=uint8), array([[[ 8,  3,  4],\n",
      "        [11,  6,  8],\n",
      "        [13,  8, 10],\n",
      "        ..., \n",
      "        [31, 27,  8],\n",
      "        [34, 30, 11],\n",
      "        [36, 32, 14]],\n",
      "\n",
      "       [[ 8,  6,  6],\n",
      "        [10,  5,  6],\n",
      "        [10,  5,  6],\n",
      "        ..., \n",
      "        [36, 32, 13],\n",
      "        [35, 31, 12],\n",
      "        [34, 29, 14]],\n",
      "\n",
      "       [[ 8,  6,  6],\n",
      "        [ 5,  3,  3],\n",
      "        [ 9,  4,  5],\n",
      "        ..., \n",
      "        [38, 37, 17],\n",
      "        [36, 32, 13],\n",
      "        [34, 30, 12]],\n",
      "\n",
      "       ..., \n",
      "       [[ 3,  1,  0],\n",
      "        [ 2,  0,  0],\n",
      "        [ 4,  2,  1],\n",
      "        ..., \n",
      "        [18, 11,  2],\n",
      "        [14, 10,  0],\n",
      "        [ 9,  7,  0]],\n",
      "\n",
      "       [[ 2,  0,  0],\n",
      "        [ 2,  0,  0],\n",
      "        [ 2,  0,  0],\n",
      "        ..., \n",
      "        [17, 11,  0],\n",
      "        [12, 10,  0],\n",
      "        [12, 10,  0]],\n",
      "\n",
      "       [[ 2,  0,  0],\n",
      "        [ 2,  0,  0],\n",
      "        [ 4,  2,  1],\n",
      "        ..., \n",
      "        [16, 12,  1],\n",
      "        [13, 11,  0],\n",
      "        [15, 11,  0]]], dtype=uint8), array([[[ 2,  2,  2],\n",
      "        [ 5,  0,  1],\n",
      "        [ 9,  1,  2],\n",
      "        ..., \n",
      "        [10,  0,  1],\n",
      "        [ 8,  0,  0],\n",
      "        [ 7,  0,  0]],\n",
      "\n",
      "       [[ 6,  1,  2],\n",
      "        [ 6,  0,  1],\n",
      "        [ 8,  0,  1],\n",
      "        ..., \n",
      "        [ 8,  0,  1],\n",
      "        [ 8,  0,  0],\n",
      "        [ 8,  0,  0]],\n",
      "\n",
      "       [[ 7,  1,  2],\n",
      "        [ 7,  1,  2],\n",
      "        [ 8,  0,  1],\n",
      "        ..., \n",
      "        [ 9,  1,  2],\n",
      "        [ 8,  0,  1],\n",
      "        [ 8,  0,  1]],\n",
      "\n",
      "       ..., \n",
      "       [[ 6,  1,  2],\n",
      "        [ 6,  1,  2],\n",
      "        [ 7,  2,  3],\n",
      "        ..., \n",
      "        [10,  2,  3],\n",
      "        [ 7,  1,  2],\n",
      "        [ 6,  0,  1]],\n",
      "\n",
      "       [[ 5,  0,  1],\n",
      "        [ 7,  2,  3],\n",
      "        [ 7,  2,  3],\n",
      "        ..., \n",
      "        [ 9,  1,  2],\n",
      "        [ 9,  3,  4],\n",
      "        [ 8,  2,  3]],\n",
      "\n",
      "       [[ 3,  1,  1],\n",
      "        [ 5,  3,  3],\n",
      "        [ 6,  4,  4],\n",
      "        ..., \n",
      "        [ 6,  0,  1],\n",
      "        [ 8,  2,  3],\n",
      "        [ 7,  1,  2]]], dtype=uint8), array([[[115,  93, 141],\n",
      "        [117,  96, 141],\n",
      "        [119,  99, 144],\n",
      "        ..., \n",
      "        [ 10,  10,  10],\n",
      "        [ 10,  10,  10],\n",
      "        [ 11,  11,  11]],\n",
      "\n",
      "       [[121,  97, 145],\n",
      "        [119,  97, 145],\n",
      "        [118,  98, 145],\n",
      "        ..., \n",
      "        [ 11,  11,  11],\n",
      "        [  7,   9,   9],\n",
      "        [  8,  10,  10]],\n",
      "\n",
      "       [[121,  98, 143],\n",
      "        [117,  96, 141],\n",
      "        [114,  96, 143],\n",
      "        ..., \n",
      "        [  9,  12,  10],\n",
      "        [  7,  10,   8],\n",
      "        [  8,  10,  10]],\n",
      "\n",
      "       ..., \n",
      "       [[ 46,  24,   6],\n",
      "        [ 44,  22,   4],\n",
      "        [ 47,  25,   7],\n",
      "        ..., \n",
      "        [ 41,  52,  32],\n",
      "        [ 45,  58,  34],\n",
      "        [ 46,  55,  34]],\n",
      "\n",
      "       [[ 39,  17,   0],\n",
      "        [ 40,  18,   0],\n",
      "        [ 42,  20,   2],\n",
      "        ..., \n",
      "        [ 46,  55,  35],\n",
      "        [ 46,  59,  35],\n",
      "        [ 45,  57,  35]],\n",
      "\n",
      "       [[ 38,  15,   0],\n",
      "        [ 36,  13,   0],\n",
      "        [ 38,  18,   0],\n",
      "        ..., \n",
      "        [ 48,  57,  37],\n",
      "        [ 46,  58,  36],\n",
      "        [ 44,  55,  35]]], dtype=uint8), array([[[ 91,  77, 119],\n",
      "        [ 88,  76, 118],\n",
      "        [ 91,  77, 119],\n",
      "        ..., \n",
      "        [111, 110, 152],\n",
      "        [109, 110, 154],\n",
      "        [107, 110, 154]],\n",
      "\n",
      "       [[ 90,  76, 117],\n",
      "        [ 90,  76, 118],\n",
      "        [ 90,  76, 118],\n",
      "        ..., \n",
      "        [109, 111, 152],\n",
      "        [109, 110, 154],\n",
      "        [109, 110, 154]],\n",
      "\n",
      "       [[ 89,  75, 116],\n",
      "        [ 89,  75, 117],\n",
      "        [ 89,  75, 117],\n",
      "        ..., \n",
      "        [110, 112, 153],\n",
      "        [109, 110, 154],\n",
      "        [111, 110, 154]],\n",
      "\n",
      "       ..., \n",
      "       [[119, 107, 129],\n",
      "        [117, 104, 128],\n",
      "        [116, 103, 127],\n",
      "        ..., \n",
      "        [ 94,  84, 130],\n",
      "        [ 95,  84, 130],\n",
      "        [ 93,  83, 129]],\n",
      "\n",
      "       [[118, 105, 127],\n",
      "        [117, 104, 128],\n",
      "        [116, 106, 129],\n",
      "        ..., \n",
      "        [ 94,  84, 130],\n",
      "        [ 94,  84, 130],\n",
      "        [ 94,  84, 130]],\n",
      "\n",
      "       [[118, 106, 126],\n",
      "        [114, 105, 126],\n",
      "        [118, 109, 130],\n",
      "        ..., \n",
      "        [ 95,  85, 131],\n",
      "        [ 95,  85, 131],\n",
      "        [ 95,  85, 131]]], dtype=uint8)]\n"
     ]
    }
   ],
   "source": [
    "# Create numpy array\n",
    "train_image_list = list()\n",
    "train_label_list = list()\n",
    "for image in train_list[:10]:\n",
    "    im = cv2.imread(image)\n",
    "    im_type = image.split('/')[-2]\n",
    "    train_label_list.append(im_type)\n",
    "    train_image_list.append(im)\n",
    "print (train_label_list)\n",
    "print(train_image_list)\n"
   ]
  },
  {
   "cell_type": "code",
   "execution_count": 12,
   "metadata": {
    "collapsed": true
   },
   "outputs": [],
   "source": [
    "X = np.array(train_image_list)"
   ]
  },
  {
   "cell_type": "code",
   "execution_count": 13,
   "metadata": {
    "collapsed": false
   },
   "outputs": [
    {
     "data": {
      "text/plain": [
       "(10,)"
      ]
     },
     "execution_count": 13,
     "metadata": {},
     "output_type": "execute_result"
    }
   ],
   "source": [
    "X.shape"
   ]
  },
  {
   "cell_type": "code",
   "execution_count": null,
   "metadata": {
    "collapsed": false
   },
   "outputs": [],
   "source": [
    "# Fit the model\n",
    "model.fit(train_image_list, train_label_list, batch_size = 32, nb_epoch = 5, verbose = 1)\n",
    "\n",
    "# Final evaluation of the model\n",
    "scores = model.evaluate(train_data_path, validation_data_path, verbose = 0)\n",
    "print(\"CNN Error: %.2f%%\" % (100-scores[1]*100))"
   ]
  },
  {
   "cell_type": "code",
   "execution_count": null,
   "metadata": {
    "collapsed": false
   },
   "outputs": [],
   "source": [
    "model.save_weights('models/basic_cnn_1_epoch.h5')"
   ]
  },
  {
   "cell_type": "code",
   "execution_count": null,
   "metadata": {
    "collapsed": true
   },
   "outputs": [],
   "source": [
    "#Evaluating on validation set"
   ]
  },
  {
   "cell_type": "code",
   "execution_count": null,
   "metadata": {
    "collapsed": true
   },
   "outputs": [],
   "source": [
    "#Computing loss and accuracy \n",
    "model.evaluate_generator(validation_generator, nb_validation_samples)"
   ]
  },
  {
   "cell_type": "code",
   "execution_count": null,
   "metadata": {
    "collapsed": true
   },
   "outputs": [],
   "source": [
    "#Data augmentation for improving model by applying random transformation to the train set. \n",
    "#reduces overfitting "
   ]
  },
  {
   "cell_type": "markdown",
   "metadata": {},
   "source": [
    "# Confusion Matrix"
   ]
  },
  {
   "cell_type": "markdown",
   "metadata": {},
   "source": [
    "# Next Steps"
   ]
  },
  {
   "cell_type": "markdown",
   "metadata": {},
   "source": [
    "1. Create an ensembe with pre-trained models: VGG16, ResNet_V2, and Inception_V3, then fine tune the top layers of the pre-trained networks. \n",
    "https://gihub.com/tensorflow/models/blob/master/slim/README.md#Pretrained\n",
    "\n",
    "2. Experiment with more k-folds on the training images\n",
    "\n",
    "3. Explore bounding box annotations \n",
    "\n",
    "4. Train and test the improved model on the additional images and second relase images\n",
    "\n",
    "5. Incorrporate additional visualizations"
   ]
  }
 ],
 "metadata": {
  "anaconda-cloud": {},
  "kernelspec": {
   "display_name": "Python 3",
   "language": "python",
   "name": "python3"
  },
  "language_info": {
   "codemirror_mode": {
    "name": "ipython",
    "version": 3
   },
   "file_extension": ".py",
   "mimetype": "text/x-python",
   "name": "python",
   "nbconvert_exporter": "python",
   "pygments_lexer": "ipython3",
   "version": "3.6.0"
  }
 },
 "nbformat": 4,
 "nbformat_minor": 1
}
