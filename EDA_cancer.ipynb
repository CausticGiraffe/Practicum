{
 "cells": [
  {
   "cell_type": "markdown",
   "metadata": {},
   "source": [
    "# EDA Cervix Cancer "
   ]
  },
  {
   "cell_type": "code",
   "execution_count": 2,
   "metadata": {
    "collapsed": false
   },
   "outputs": [
    {
     "name": "stderr",
     "output_type": "stream",
     "text": [
      "Using TensorFlow backend.\n"
     ]
    },
    {
     "data": {
      "text/html": [
       "<script>requirejs.config({paths: { 'plotly': ['https://cdn.plot.ly/plotly-latest.min']},});if(!window.Plotly) {{require(['plotly'],function(plotly) {window.Plotly=plotly;});}}</script>"
      ],
      "text/vnd.plotly.v1+html": [
       "<script>requirejs.config({paths: { 'plotly': ['https://cdn.plot.ly/plotly-latest.min']},});if(!window.Plotly) {{require(['plotly'],function(plotly) {window.Plotly=plotly;});}}</script>"
      ]
     },
     "metadata": {},
     "output_type": "display_data"
    },
    {
     "name": "stdout",
     "output_type": "stream",
     "text": [
      "Type_1\n",
      "Type_2\n",
      "Type_3\n",
      "\n"
     ]
    }
   ],
   "source": [
    "#Dependancies \n",
    "import numpy as np \n",
    "import pandas as pd\n",
    "import seaborn as sns \n",
    "import cv2\n",
    "import skimage.io as io\n",
    "import keras\n",
    "import os\n",
    "import glob\n",
    "import matplotlib.pyplot as plt\n",
    "%matplotlib inline\n",
    "import plotly.offline as py\n",
    "import plotly.graph_objs as go\n",
    "import plotly.tools as tls \n",
    "py.init_notebook_mode(connected=True)\n",
    "import random \n",
    "import shutil\n",
    "\n",
    "from skimage.io import imread, imshow\n",
    "from keras.models import Sequential\n",
    "from keras.layers import Activation, Dropout, Flatten, Dense\n",
    "from keras.preprocessing.image import ImageDataGenerator\n",
    "from keras.layers import Convolution2D, MaxPooling2D, ZeroPadding2D\n",
    "from keras import optimizers\n",
    "\n",
    "from subprocess import check_output\n",
    "print(check_output([\"ls\", \"/home/kray/Practicum/train\"]).decode(\"utf8\"))\n",
    "\n",
    "from keras.models import Sequential\n",
    "from keras.layers.core import Dense, Activation, Flatten, Dropout\n",
    "from keras.layers.convolutional import Convolution2D\n",
    "from keras.layers.pooling import MaxPooling2D\n",
    "from keras.optimizers import SGD\n",
    "from sklearn.utils import shuffle\n",
    "from keras.utils.np_utils import to_categorical"
   ]
  },
  {
   "cell_type": "code",
   "execution_count": 3,
   "metadata": {
    "collapsed": false
   },
   "outputs": [
    {
     "name": "stdout",
     "output_type": "stream",
     "text": [
      "249 photos of cervix type Type_1\n",
      "781 photos of cervix type Type_2\n",
      "450 photos of cervix type Type_3\n"
     ]
    },
    {
     "data": {
      "image/png": "[encoded data removed]",
      "text/plain": [
       "<matplotlib.figure.Figure at 0x7f7399a7ad30>"
      ]
     },
     "metadata": {},
     "output_type": "display_data"
    }
   ],
   "source": [
    "# Number of images for each cervix type in train with plot.\n",
    "# Code modified from Poonam Ligade, Intel cervical cancer EDA https://www.kaggle.com/poonaml/intel-cervical-cancer-eda \n",
    "sub_folders = check_output([\"ls\", \"/home/kray/Practicum/train\"]).decode(\"utf8\").strip().split('\\n')\n",
    "count_dict = {}\n",
    "for sub_folder in sub_folders:\n",
    "    num_of_files = len(check_output([\"ls\", \"/home/kray/Practicum/train/\"+sub_folder]).decode(\"utf8\").strip().split('\\n'))\n",
    "    print(\"{0} photos of cervix type {1}\".format(num_of_files, sub_folder))\n",
    "                            \n",
    "    count_dict[sub_folder] = num_of_files\n",
    "                            \n",
    "plt.figure(figsize=(12,4))\n",
    "sns.barplot(list(count_dict.keys()), list(count_dict.values()), alpha = 0.8)\n",
    "plt.xlabel('Cervix types', fontsize = 11)\n",
    "plt.ylabel('Number of images in train', fontsize = 11)\n",
    "plt.title('train dataset')\n",
    "                            \n",
    "plt.show()"
   ]
  },
  {
   "cell_type": "code",
   "execution_count": 4,
   "metadata": {
    "collapsed": false
   },
   "outputs": [
    {
     "name": "stdout",
     "output_type": "stream",
     "text": [
      "Number of test images present: 512\n"
     ]
    }
   ],
   "source": [
    "#Number of test images. \n",
    "num_test_files = len(check_output([\"ls\", \"/home/kray/Practicum/test/\"]).decode(\"utf8\").strip().split('\\n'))\n",
    "print(\"Number of test images present:\", num_test_files)"
   ]
  },
  {
   "cell_type": "code",
   "execution_count": 5,
   "metadata": {
    "collapsed": false
   },
   "outputs": [
    {
     "ename": "SyntaxError",
     "evalue": "invalid syntax (<ipython-input-5-90baa4da0deb>, line 4)",
     "output_type": "error",
     "traceback": [
      "\u001b[0;36m  File \u001b[0;32m\"<ipython-input-5-90baa4da0deb>\"\u001b[0;36m, line \u001b[0;32m4\u001b[0m\n\u001b[0;31m    for t in \"/home/kray/Practicum/train\"\u001b[0m\n\u001b[0m                                         ^\u001b[0m\n\u001b[0;31mSyntaxError\u001b[0m\u001b[0;31m:\u001b[0m invalid syntax\n"
     ]
    }
   ],
   "source": [
    "fig = plt.figure(figsize = (12, 8))\n",
    "\n",
    "i = 1\n",
    "for t in \"/home/kray/Practicum/train\""
   ]
  },
  {
   "cell_type": "code",
   "execution_count": 10,
   "metadata": {
    "collapsed": false
   },
   "outputs": [
    {
     "ename": "NameError",
     "evalue": "name 'different_file_sizes' is not defined",
     "output_type": "error",
     "traceback": [
      "\u001b[0;31m---------------------------------------------------------------------------\u001b[0m",
      "\u001b[0;31mNameError\u001b[0m                                 Traceback (most recent call last)",
      "\u001b[0;32m<ipython-input-10-7db668e156ca>\u001b[0m in \u001b[0;36m<module>\u001b[0;34m()\u001b[0m\n\u001b[1;32m      5\u001b[0m \u001b[0;31m#sns.barplot(list(different_file_sizes.values()), list(different_file_sizes.keys()), alpha = 0.8)\u001b[0m\u001b[0;34m\u001b[0m\u001b[0;34m\u001b[0m\u001b[0m\n\u001b[1;32m      6\u001b[0m \u001b[0;32mimport\u001b[0m \u001b[0mpprint\u001b[0m\u001b[0;34m\u001b[0m\u001b[0m\n\u001b[0;32m----> 7\u001b[0;31m \u001b[0mpprint\u001b[0m\u001b[0;34m.\u001b[0m\u001b[0mpprint\u001b[0m\u001b[0;34m(\u001b[0m\u001b[0mdifferent_file_sizes\u001b[0m\u001b[0;34m)\u001b[0m\u001b[0;34m\u001b[0m\u001b[0m\n\u001b[0m\u001b[1;32m      8\u001b[0m \u001b[0;31m#plt.ylabel('Image size', fontsize = 11)plt.xlabel('Number of images in train', fontsize = 11)\u001b[0m\u001b[0;34m\u001b[0m\u001b[0;34m\u001b[0m\u001b[0m\n\u001b[1;32m      9\u001b[0m \u001b[0mplt\u001b[0m\u001b[0;34m.\u001b[0m\u001b[0mtitle\u001b[0m\u001b[0;34m(\u001b[0m\u001b[0;34m\"Image sizes present in train dataset\"\u001b[0m\u001b[0;34m)\u001b[0m\u001b[0;34m\u001b[0m\u001b[0m\n",
      "\u001b[0;31mNameError\u001b[0m: name 'different_file_sizes' is not defined"
     ]
    },
    {
     "data": {
      "text/plain": [
       "<matplotlib.figure.Figure at 0x7f7398ced828>"
      ]
     },
     "metadata": {},
     "output_type": "display_data"
    }
   ],
   "source": [
    "# Image size distribution, barplot. \n",
    "# Code modified from Poonam Ligade, Intel cervical cancer EDA https://www.kaggle.com/poonaml/intel-cervical-cancer-eda \n",
    "\n",
    "plt.figure(figsize=(12,4))\n",
    "#sns.barplot(list(different_file_sizes.values()), list(different_file_sizes.keys()), alpha = 0.8)\n",
    "import pprint\n",
    "pprint.pprint(different_file_sizes)\n",
    "#plt.ylabel('Image size', fontsize = 11)plt.xlabel('Number of images in train', fontsize = 11)\n",
    "plt.title(\"Image sizes present in train dataset\")\n",
    "plt.show()"
   ]
  },
  {
   "cell_type": "code",
   "execution_count": 11,
   "metadata": {
    "collapsed": false
   },
   "outputs": [
    {
     "name": "stdout",
     "output_type": "stream",
     "text": [
      "Train images: 1036\n",
      "Validation images 444\n"
     ]
    }
   ],
   "source": [
    "#Split data into training and validation sets, keeping file organization. \n",
    "allFiles = glob.glob('/home/kray/Practicum/train/*/*')\n",
    "\n",
    "split_point = int(round(0.7*len(allFiles)))\n",
    "random.shuffle(allFiles)\n",
    "\n",
    "train_list = allFiles[:split_point]\n",
    "valid_list = allFiles[split_point:]\n",
    "print('Train images: {}'.format(len(train_list)))\n",
    "print('Validation images {}'. format(len(valid_list)))\n",
    "\n",
    "# Divy them into their own directories.\n",
    "train_data_path = '/home/kray/Practicum/train_data'\n",
    "validation_data_path = '/home/kray/Practicum/valid_data'\n",
    "if not os.path.exists(train_data_path):\n",
    "    os.makedirs(train_data_path)\n",
    "if not os.path.exists(validation_data_path):\n",
    "    os.makedirs(validation_data_path)\n",
    "\n",
    "for fpath in train_list:\n",
    "    basename = fpath.split('/')[-2:]\n",
    "    dest = '/'.join([train_data_path] +basename)\n",
    "    if not os.path.exists('/'.join(dest.split('/')[:-1])):\n",
    "        os.makedirs('/'.join(dest.split('/')[:-1]))\n",
    "    shutil.copyfile(fpath, '/'.join([train_data_path] +basename))\n",
    "for fpath in valid_list:\n",
    "    basename = fpath.split('/')[-2:]\n",
    "    dest = '/'.join([validation_data_path] +basename)\n",
    "    if not os.path.exists('/'.join(dest.split('/')[:-1])):\n",
    "        os.makedirs('/'.join(dest.split('/')[:-1]))\n",
    "    shutil.copyfile(fpath, '/'.join([validation_data_path] +basename))"
   ]
  },
  {
   "cell_type": "code",
   "execution_count": 24,
   "metadata": {
    "collapsed": false
   },
   "outputs": [
    {
     "name": "stdout",
     "output_type": "stream",
     "text": [
      "['Type_2', 'Type_2', 'Type_2', 'Type_3', 'Type_2', 'Type_2', 'Type_1', 'Type_2', 'Type_2', 'Type_3']\n",
      "[array([[[7, 2, 3],\n",
      "        [7, 2, 3],\n",
      "        [8, 3, 4],\n",
      "        ..., \n",
      "        [5, 3, 2],\n",
      "        [5, 3, 2],\n",
      "        [8, 6, 5]],\n",
      "\n",
      "       [[6, 1, 2],\n",
      "        [6, 1, 2],\n",
      "        [5, 0, 1],\n",
      "        ..., \n",
      "        [4, 2, 1],\n",
      "        [4, 2, 1],\n",
      "        [6, 4, 3]],\n",
      "\n",
      "       [[3, 1, 0],\n",
      "        [2, 0, 0],\n",
      "        [3, 1, 0],\n",
      "        ..., \n",
      "        [3, 1, 0],\n",
      "        [2, 0, 0],\n",
      "        [3, 1, 0]],\n",
      "\n",
      "       ..., \n",
      "       [[8, 1, 0],\n",
      "        [6, 1, 0],\n",
      "        [6, 3, 0],\n",
      "        ..., \n",
      "        [2, 0, 0],\n",
      "        [2, 1, 0],\n",
      "        [2, 1, 0]],\n",
      "\n",
      "       [[8, 1, 0],\n",
      "        [7, 2, 0],\n",
      "        [5, 2, 0],\n",
      "        ..., \n",
      "        [4, 0, 0],\n",
      "        [2, 1, 0],\n",
      "        [2, 1, 0]],\n",
      "\n",
      "       [[6, 1, 0],\n",
      "        [6, 1, 0],\n",
      "        [8, 3, 0],\n",
      "        ..., \n",
      "        [4, 1, 0],\n",
      "        [2, 1, 0],\n",
      "        [0, 1, 0]]], dtype=uint8), array([[[230, 217, 239],\n",
      "        [228, 216, 238],\n",
      "        [232, 223, 244],\n",
      "        ..., \n",
      "        [107,  79, 132],\n",
      "        [100,  77, 129],\n",
      "        [ 93,  74, 125]],\n",
      "\n",
      "       [[227, 215, 237],\n",
      "        [228, 217, 237],\n",
      "        [234, 222, 244],\n",
      "        ..., \n",
      "        [106,  80, 133],\n",
      "        [101,  79, 128],\n",
      "        [ 94,  72, 121]],\n",
      "\n",
      "       [[227, 218, 239],\n",
      "        [229, 218, 238],\n",
      "        [234, 222, 242],\n",
      "        ..., \n",
      "        [110,  84, 137],\n",
      "        [106,  81, 131],\n",
      "        [ 98,  73, 123]],\n",
      "\n",
      "       ..., \n",
      "       [[ 97, 105, 195],\n",
      "        [ 98, 107, 197],\n",
      "        [102, 112, 200],\n",
      "        ..., \n",
      "        [191, 176, 160],\n",
      "        [198, 182, 169],\n",
      "        [196, 180, 167]],\n",
      "\n",
      "       [[107, 113, 202],\n",
      "        [103, 112, 199],\n",
      "        [101, 110, 197],\n",
      "        ..., \n",
      "        [193, 177, 161],\n",
      "        [198, 182, 166],\n",
      "        [194, 178, 162]],\n",
      "\n",
      "       [[111, 115, 203],\n",
      "        [105, 112, 197],\n",
      "        [ 98, 106, 189],\n",
      "        ..., \n",
      "        [193, 177, 161],\n",
      "        [193, 177, 160],\n",
      "        [189, 173, 156]]], dtype=uint8), array([[[10, 23, 37],\n",
      "        [10, 22, 34],\n",
      "        [11, 23, 33],\n",
      "        ..., \n",
      "        [ 4, 21, 34],\n",
      "        [ 3, 22, 30],\n",
      "        [ 2, 19, 28]],\n",
      "\n",
      "       [[ 9, 23, 35],\n",
      "        [11, 23, 35],\n",
      "        [15, 24, 37],\n",
      "        ..., \n",
      "        [ 4, 22, 33],\n",
      "        [ 2, 20, 31],\n",
      "        [ 2, 20, 31]],\n",
      "\n",
      "       [[10, 24, 36],\n",
      "        [12, 24, 36],\n",
      "        [13, 22, 35],\n",
      "        ..., \n",
      "        [ 4, 23, 31],\n",
      "        [ 0, 20, 31],\n",
      "        [ 0, 19, 32]],\n",
      "\n",
      "       ..., \n",
      "       [[88, 63, 47],\n",
      "        [84, 64, 46],\n",
      "        [85, 68, 47],\n",
      "        ..., \n",
      "        [17,  8,  0],\n",
      "        [14,  4,  0],\n",
      "        [15,  5,  0]],\n",
      "\n",
      "       [[85, 61, 43],\n",
      "        [83, 61, 43],\n",
      "        [84, 64, 46],\n",
      "        ..., \n",
      "        [14,  4,  0],\n",
      "        [15,  6,  0],\n",
      "        [13,  6,  0]],\n",
      "\n",
      "       [[81, 57, 37],\n",
      "        [79, 57, 39],\n",
      "        [80, 60, 42],\n",
      "        ..., \n",
      "        [12,  4,  0],\n",
      "        [14,  8,  0],\n",
      "        [15, 11,  0]]], dtype=uint8), array([[[0, 0, 0],\n",
      "        [0, 0, 0],\n",
      "        [1, 1, 1],\n",
      "        ..., \n",
      "        [0, 0, 0],\n",
      "        [0, 0, 0],\n",
      "        [0, 0, 0]],\n",
      "\n",
      "       [[0, 0, 0],\n",
      "        [0, 0, 0],\n",
      "        [0, 0, 0],\n",
      "        ..., \n",
      "        [0, 0, 0],\n",
      "        [0, 0, 0],\n",
      "        [0, 0, 0]],\n",
      "\n",
      "       [[0, 0, 0],\n",
      "        [0, 0, 0],\n",
      "        [0, 0, 0],\n",
      "        ..., \n",
      "        [0, 0, 0],\n",
      "        [0, 0, 0],\n",
      "        [0, 0, 0]],\n",
      "\n",
      "       ..., \n",
      "       [[0, 0, 0],\n",
      "        [0, 0, 0],\n",
      "        [0, 0, 0],\n",
      "        ..., \n",
      "        [0, 0, 0],\n",
      "        [0, 0, 0],\n",
      "        [0, 0, 0]],\n",
      "\n",
      "       [[0, 0, 0],\n",
      "        [0, 0, 0],\n",
      "        [0, 0, 0],\n",
      "        ..., \n",
      "        [0, 0, 0],\n",
      "        [0, 0, 0],\n",
      "        [0, 0, 0]],\n",
      "\n",
      "       [[0, 0, 0],\n",
      "        [0, 0, 0],\n",
      "        [0, 0, 0],\n",
      "        ..., \n",
      "        [0, 0, 0],\n",
      "        [0, 0, 0],\n",
      "        [0, 0, 0]]], dtype=uint8), array([[[141, 118, 162],\n",
      "        [138, 115, 159],\n",
      "        [137, 115, 157],\n",
      "        ..., \n",
      "        [253, 226, 205],\n",
      "        [254, 227, 206],\n",
      "        [250, 223, 202]],\n",
      "\n",
      "       [[140, 117, 161],\n",
      "        [138, 116, 158],\n",
      "        [137, 115, 157],\n",
      "        ..., \n",
      "        [251, 224, 203],\n",
      "        [251, 224, 203],\n",
      "        [247, 220, 199]],\n",
      "\n",
      "       [[140, 118, 160],\n",
      "        [138, 116, 158],\n",
      "        [137, 115, 157],\n",
      "        ..., \n",
      "        [251, 224, 203],\n",
      "        [252, 225, 204],\n",
      "        [248, 221, 200]],\n",
      "\n",
      "       ..., \n",
      "       [[147, 142, 163],\n",
      "        [146, 141, 162],\n",
      "        [150, 145, 166],\n",
      "        ..., \n",
      "        [254, 254, 254],\n",
      "        [254, 254, 254],\n",
      "        [254, 254, 254]],\n",
      "\n",
      "       [[146, 141, 162],\n",
      "        [146, 141, 162],\n",
      "        [149, 144, 165],\n",
      "        ..., \n",
      "        [254, 254, 254],\n",
      "        [254, 254, 254],\n",
      "        [254, 254, 254]],\n",
      "\n",
      "       [[143, 138, 159],\n",
      "        [144, 139, 160],\n",
      "        [146, 141, 162],\n",
      "        ..., \n",
      "        [254, 254, 254],\n",
      "        [254, 254, 254],\n",
      "        [254, 254, 254]]], dtype=uint8), array([[[1, 1, 1],\n",
      "        [0, 0, 0],\n",
      "        [0, 0, 0],\n",
      "        ..., \n",
      "        [0, 0, 0],\n",
      "        [0, 0, 0],\n",
      "        [1, 1, 1]],\n",
      "\n",
      "       [[1, 1, 1],\n",
      "        [0, 0, 0],\n",
      "        [0, 0, 0],\n",
      "        ..., \n",
      "        [0, 0, 0],\n",
      "        [1, 1, 1],\n",
      "        [1, 1, 1]],\n",
      "\n",
      "       [[2, 2, 2],\n",
      "        [0, 0, 0],\n",
      "        [0, 0, 0],\n",
      "        ..., \n",
      "        [0, 0, 0],\n",
      "        [0, 0, 0],\n",
      "        [1, 1, 1]],\n",
      "\n",
      "       ..., \n",
      "       [[0, 0, 0],\n",
      "        [0, 0, 0],\n",
      "        [0, 0, 0],\n",
      "        ..., \n",
      "        [0, 0, 0],\n",
      "        [0, 0, 0],\n",
      "        [0, 0, 0]],\n",
      "\n",
      "       [[0, 0, 0],\n",
      "        [0, 0, 0],\n",
      "        [0, 0, 0],\n",
      "        ..., \n",
      "        [0, 0, 0],\n",
      "        [0, 0, 0],\n",
      "        [0, 0, 0]],\n",
      "\n",
      "       [[0, 0, 0],\n",
      "        [0, 0, 0],\n",
      "        [0, 0, 0],\n",
      "        ..., \n",
      "        [0, 0, 0],\n",
      "        [0, 0, 0],\n",
      "        [0, 0, 0]]], dtype=uint8), array([[[ 91,  90,  94],\n",
      "        [ 88,  90,  90],\n",
      "        [ 87,  90,  88],\n",
      "        ..., \n",
      "        [ 87,  80,  60],\n",
      "        [ 88,  81,  61],\n",
      "        [ 87,  82,  61]],\n",
      "\n",
      "       [[ 89,  91,  91],\n",
      "        [ 88,  90,  90],\n",
      "        [ 87,  89,  89],\n",
      "        ..., \n",
      "        [ 85,  82,  61],\n",
      "        [ 86,  83,  62],\n",
      "        [ 87,  82,  61]],\n",
      "\n",
      "       [[ 89,  91,  91],\n",
      "        [ 86,  91,  90],\n",
      "        [ 85,  89,  90],\n",
      "        ..., \n",
      "        [ 84,  83,  62],\n",
      "        [ 87,  84,  63],\n",
      "        [ 88,  82,  59]],\n",
      "\n",
      "       ..., \n",
      "       [[128, 141, 139],\n",
      "        [128, 141, 139],\n",
      "        [127, 141, 139],\n",
      "        ..., \n",
      "        [ 41,  47,  88],\n",
      "        [ 40,  48,  88],\n",
      "        [ 40,  48,  88]],\n",
      "\n",
      "       [[130, 141, 139],\n",
      "        [126, 139, 137],\n",
      "        [128, 143, 139],\n",
      "        ..., \n",
      "        [ 38,  47,  85],\n",
      "        [ 37,  46,  84],\n",
      "        [ 39,  48,  86]],\n",
      "\n",
      "       [[130, 141, 138],\n",
      "        [127, 141, 137],\n",
      "        [126, 140, 138],\n",
      "        ..., \n",
      "        [ 37,  46,  83],\n",
      "        [ 38,  47,  84],\n",
      "        [ 39,  47,  84]]], dtype=uint8), array([[[1, 1, 1],\n",
      "        [1, 1, 1],\n",
      "        [1, 1, 1],\n",
      "        ..., \n",
      "        [3, 3, 3],\n",
      "        [4, 4, 4],\n",
      "        [4, 3, 5]],\n",
      "\n",
      "       [[1, 1, 1],\n",
      "        [1, 1, 1],\n",
      "        [1, 1, 1],\n",
      "        ..., \n",
      "        [4, 4, 4],\n",
      "        [4, 4, 4],\n",
      "        [4, 4, 4]],\n",
      "\n",
      "       [[1, 1, 1],\n",
      "        [1, 1, 1],\n",
      "        [1, 1, 1],\n",
      "        ..., \n",
      "        [4, 3, 5],\n",
      "        [4, 3, 5],\n",
      "        [4, 4, 4]],\n",
      "\n",
      "       ..., \n",
      "       [[1, 1, 1],\n",
      "        [0, 0, 0],\n",
      "        [0, 0, 0],\n",
      "        ..., \n",
      "        [1, 1, 1],\n",
      "        [1, 1, 1],\n",
      "        [0, 0, 0]],\n",
      "\n",
      "       [[0, 0, 0],\n",
      "        [0, 0, 0],\n",
      "        [0, 0, 0],\n",
      "        ..., \n",
      "        [1, 1, 1],\n",
      "        [1, 1, 1],\n",
      "        [0, 0, 0]],\n",
      "\n",
      "       [[0, 0, 0],\n",
      "        [0, 0, 0],\n",
      "        [0, 0, 0],\n",
      "        ..., \n",
      "        [1, 1, 1],\n",
      "        [1, 1, 1],\n",
      "        [1, 1, 1]]], dtype=uint8), array([[[183, 135,   0],\n",
      "        [182, 134,   0],\n",
      "        [181, 132,   0],\n",
      "        ..., \n",
      "        [213, 150,   0],\n",
      "        [213, 150,   0],\n",
      "        [215, 152,   2]],\n",
      "\n",
      "       [[184, 136,   1],\n",
      "        [183, 135,   0],\n",
      "        [182, 134,   0],\n",
      "        ..., \n",
      "        [213, 150,   0],\n",
      "        [213, 150,   0],\n",
      "        [214, 151,   1]],\n",
      "\n",
      "       [[185, 137,   1],\n",
      "        [184, 136,   1],\n",
      "        [184, 136,   1],\n",
      "        ..., \n",
      "        [214, 150,   2],\n",
      "        [213, 150,   0],\n",
      "        [213, 150,   0]],\n",
      "\n",
      "       ..., \n",
      "       [[ 17,  32,  18],\n",
      "        [ 16,  30,  18],\n",
      "        [ 17,  31,  19],\n",
      "        ..., \n",
      "        [ 38,  50,  60],\n",
      "        [ 40,  52,  64],\n",
      "        [ 43,  55,  67]],\n",
      "\n",
      "       [[ 16,  30,  18],\n",
      "        [ 16,  30,  18],\n",
      "        [ 18,  32,  20],\n",
      "        ..., \n",
      "        [ 40,  52,  64],\n",
      "        [ 40,  52,  62],\n",
      "        [ 42,  54,  64]],\n",
      "\n",
      "       [[ 13,  27,  15],\n",
      "        [ 15,  29,  17],\n",
      "        [ 20,  35,  21],\n",
      "        ..., \n",
      "        [ 44,  56,  68],\n",
      "        [ 41,  53,  63],\n",
      "        [ 39,  55,  62]]], dtype=uint8), array([[[ 36,  48,  96],\n",
      "        [ 39,  51,  99],\n",
      "        [ 39,  51,  99],\n",
      "        ..., \n",
      "        [ 72,  79, 128],\n",
      "        [ 71,  78, 127],\n",
      "        [ 70,  80, 128]],\n",
      "\n",
      "       [[ 35,  47,  95],\n",
      "        [ 34,  46,  94],\n",
      "        [ 31,  43,  91],\n",
      "        ..., \n",
      "        [ 72,  79, 128],\n",
      "        [ 70,  77, 126],\n",
      "        [ 65,  75, 123]],\n",
      "\n",
      "       [[ 36,  48,  96],\n",
      "        [ 37,  49,  97],\n",
      "        [ 37,  49,  97],\n",
      "        ..., \n",
      "        [ 64,  71, 120],\n",
      "        [ 66,  73, 122],\n",
      "        [ 68,  75, 124]],\n",
      "\n",
      "       ..., \n",
      "       [[122, 106, 154],\n",
      "        [125, 109, 157],\n",
      "        [128, 112, 160],\n",
      "        ..., \n",
      "        [236, 240, 251],\n",
      "        [238, 241, 255],\n",
      "        [238, 241, 255]],\n",
      "\n",
      "       [[121, 105, 153],\n",
      "        [123, 107, 154],\n",
      "        [127, 111, 159],\n",
      "        ..., \n",
      "        [228, 232, 243],\n",
      "        [234, 237, 251],\n",
      "        [235, 238, 252]],\n",
      "\n",
      "       [[125, 109, 157],\n",
      "        [123, 107, 155],\n",
      "        [127, 111, 159],\n",
      "        ..., \n",
      "        [227, 233, 246],\n",
      "        [235, 241, 252],\n",
      "        [239, 243, 254]]], dtype=uint8)]\n"
     ]
    }
   ],
   "source": [
    "# Create numpy array\n",
    "train_image_list = list()\n",
    "train_label_list = list()\n",
    "for image in train_list[:10]:\n",
    "    im = cv2.imread(image)\n",
    "    im_type = image.split('/')[-2]\n",
    "    train_label_list.append(im_type)\n",
    "    train_image_list.append(im)\n",
    "print (train_label_list)\n",
    "print(train_image_list)"
   ]
  },
  {
   "cell_type": "markdown",
   "metadata": {},
   "source": [
    "# Model"
   ]
  },
  {
   "cell_type": "code",
   "execution_count": 13,
   "metadata": {
    "collapsed": true
   },
   "outputs": [],
   "source": [
    "#dimensions of images\n",
    "img_width, img_height = 255, 255"
   ]
  },
  {
   "cell_type": "code",
   "execution_count": 14,
   "metadata": {
    "collapsed": false
   },
   "outputs": [
    {
     "name": "stdout",
     "output_type": "stream",
     "text": [
      "Found 1435 images belonging to 3 classes.\n",
      "Found 957 images belonging to 3 classes.\n"
     ]
    }
   ],
   "source": [
    "# used to rescale the pixel values from [0, 255] to [0, 1] interval\n",
    "# Code modified from Siraj Raval, Intro to Deep Learning https://github.com/llSourcell/how_to_make_an_image_classifier/blob/master/demo.ipynb\n",
    "\n",
    "datagen = ImageDataGenerator(rescale=1./255)\n",
    "\n",
    "# automagically retrieve images and their classes for train and validation sets\n",
    "# Code modified from Siraj Raval, Intro to Deep Learning https://github.com/llSourcell/how_to_make_an_image_classifier/blob/master/demo.ipynb\n",
    "\n",
    "train_generator = datagen.flow_from_directory(\n",
    "        train_data_path,\n",
    "        target_size=(img_width, img_height),\n",
    "        batch_size=16,\n",
    "        class_mode='binary')\n",
    "\n",
    "validation_generator = datagen.flow_from_directory(\n",
    "        validation_data_path,\n",
    "        target_size=(img_width, img_height),\n",
    "        batch_size=32,\n",
    "        class_mode='binary')"
   ]
  },
  {
   "cell_type": "code",
   "execution_count": 15,
   "metadata": {
    "collapsed": false
   },
   "outputs": [],
   "source": [
    "# Simple CNN model.\n",
    "# Code modified from libphy https://github.com/libphy/dldev/blob/master/MNIST-Keras.ipynb\n",
    "\n",
    "def simple_cnn_model():\n",
    "    model = Sequential()\n",
    "    model.add(Convolution2D(32, 3, 3, input_shape=(img_width, img_height,3), activation = 'relu'))\n",
    "    model.add(MaxPooling2D(pool_size = (2, 2)))\n",
    "    model.add(Dropout(0.2))\n",
    "    model.add(Flatten())\n",
    "    model.add(Dense(64, activation = 'relu'))\n",
    "    #model.add(Dense(num_classes, activation = 'softmax'))\n",
    "    # Compile model\n",
    "    # Code modified from libphy https://github.com/libphy/dldev/blob/master/MNIST-Keras.ipynb\n",
    "\n",
    "    model.compile(loss = \"categorical_crossentropy\", optimizer = 'adam', metrics = ['accuracy']) \n",
    "    return model\n",
    "\n",
    "# Build model\n",
    "model = simple_cnn_model()"
   ]
  },
  {
   "cell_type": "code",
   "execution_count": 25,
   "metadata": {
    "collapsed": false
   },
   "outputs": [
    {
     "ename": "ValueError",
     "evalue": "Error when checking model input: the list of Numpy arrays that you are passing to your model is not the size the model expected. Expected to see 1 arrays but instead got the following list of 10 arrays: [array([[[7, 2, 3],\n        [7, 2, 3],\n        [8, 3, 4],\n        ..., \n        [5, 3, 2],\n        [5, 3, 2],\n        [8, 6, 5]],\n\n       [[6, 1, 2],\n        [6, 1, 2],\n        [5, 0, 1],\n        ...,...",
     "output_type": "error",
     "traceback": [
      "\u001b[0;31m---------------------------------------------------------------------------\u001b[0m",
      "\u001b[0;31mValueError\u001b[0m                                Traceback (most recent call last)",
      "\u001b[0;32m<ipython-input-25-7e219888a0a8>\u001b[0m in \u001b[0;36m<module>\u001b[0;34m()\u001b[0m\n\u001b[1;32m      1\u001b[0m \u001b[0;31m# Fit the model\u001b[0m\u001b[0;34m\u001b[0m\u001b[0;34m\u001b[0m\u001b[0m\n\u001b[0;32m----> 2\u001b[0;31m \u001b[0mmodel\u001b[0m\u001b[0;34m.\u001b[0m\u001b[0mfit\u001b[0m\u001b[0;34m(\u001b[0m\u001b[0mtrain_image_list\u001b[0m\u001b[0;34m,\u001b[0m \u001b[0mtrain_label_list\u001b[0m\u001b[0;34m,\u001b[0m \u001b[0mbatch_size\u001b[0m \u001b[0;34m=\u001b[0m \u001b[0;36m32\u001b[0m\u001b[0;34m,\u001b[0m \u001b[0mnb_epoch\u001b[0m \u001b[0;34m=\u001b[0m \u001b[0;36m5\u001b[0m\u001b[0;34m,\u001b[0m \u001b[0mverbose\u001b[0m \u001b[0;34m=\u001b[0m \u001b[0;36m1\u001b[0m\u001b[0;34m)\u001b[0m\u001b[0;34m\u001b[0m\u001b[0m\n\u001b[0m\u001b[1;32m      3\u001b[0m \u001b[0;34m\u001b[0m\u001b[0m\n\u001b[1;32m      4\u001b[0m \u001b[0;31m# Final evaluation of the model\u001b[0m\u001b[0;34m\u001b[0m\u001b[0;34m\u001b[0m\u001b[0m\n\u001b[1;32m      5\u001b[0m \u001b[0mscores\u001b[0m \u001b[0;34m=\u001b[0m \u001b[0mmodel\u001b[0m\u001b[0;34m.\u001b[0m\u001b[0mevaluate\u001b[0m\u001b[0;34m(\u001b[0m\u001b[0mtrain_data_path\u001b[0m\u001b[0;34m,\u001b[0m \u001b[0mvalidation_data_path\u001b[0m\u001b[0;34m,\u001b[0m \u001b[0mverbose\u001b[0m \u001b[0;34m=\u001b[0m \u001b[0;36m0\u001b[0m\u001b[0;34m)\u001b[0m\u001b[0;34m\u001b[0m\u001b[0m\n",
      "\u001b[0;32m/home/kray/anaconda3/lib/python3.6/site-packages/keras/models.py\u001b[0m in \u001b[0;36mfit\u001b[0;34m(self, x, y, batch_size, nb_epoch, verbose, callbacks, validation_split, validation_data, shuffle, class_weight, sample_weight, **kwargs)\u001b[0m\n\u001b[1;32m    662\u001b[0m                               \u001b[0mshuffle\u001b[0m\u001b[0;34m=\u001b[0m\u001b[0mshuffle\u001b[0m\u001b[0;34m,\u001b[0m\u001b[0;34m\u001b[0m\u001b[0m\n\u001b[1;32m    663\u001b[0m                               \u001b[0mclass_weight\u001b[0m\u001b[0;34m=\u001b[0m\u001b[0mclass_weight\u001b[0m\u001b[0;34m,\u001b[0m\u001b[0;34m\u001b[0m\u001b[0m\n\u001b[0;32m--> 664\u001b[0;31m                               sample_weight=sample_weight)\n\u001b[0m\u001b[1;32m    665\u001b[0m \u001b[0;34m\u001b[0m\u001b[0m\n\u001b[1;32m    666\u001b[0m     def evaluate(self, x, y, batch_size=32, verbose=1,\n",
      "\u001b[0;32m/home/kray/anaconda3/lib/python3.6/site-packages/keras/engine/training.py\u001b[0m in \u001b[0;36mfit\u001b[0;34m(self, x, y, batch_size, nb_epoch, verbose, callbacks, validation_split, validation_data, shuffle, class_weight, sample_weight, initial_epoch)\u001b[0m\n\u001b[1;32m   1066\u001b[0m             \u001b[0mclass_weight\u001b[0m\u001b[0;34m=\u001b[0m\u001b[0mclass_weight\u001b[0m\u001b[0;34m,\u001b[0m\u001b[0;34m\u001b[0m\u001b[0m\n\u001b[1;32m   1067\u001b[0m             \u001b[0mcheck_batch_dim\u001b[0m\u001b[0;34m=\u001b[0m\u001b[0;32mFalse\u001b[0m\u001b[0;34m,\u001b[0m\u001b[0;34m\u001b[0m\u001b[0m\n\u001b[0;32m-> 1068\u001b[0;31m             batch_size=batch_size)\n\u001b[0m\u001b[1;32m   1069\u001b[0m         \u001b[0;31m# prepare validation data\u001b[0m\u001b[0;34m\u001b[0m\u001b[0;34m\u001b[0m\u001b[0m\n\u001b[1;32m   1070\u001b[0m         \u001b[0;32mif\u001b[0m \u001b[0mvalidation_data\u001b[0m\u001b[0;34m:\u001b[0m\u001b[0;34m\u001b[0m\u001b[0m\n",
      "\u001b[0;32m/home/kray/anaconda3/lib/python3.6/site-packages/keras/engine/training.py\u001b[0m in \u001b[0;36m_standardize_user_data\u001b[0;34m(self, x, y, sample_weight, class_weight, check_batch_dim, batch_size)\u001b[0m\n\u001b[1;32m    979\u001b[0m                                    \u001b[0mself\u001b[0m\u001b[0;34m.\u001b[0m\u001b[0minternal_input_shapes\u001b[0m\u001b[0;34m,\u001b[0m\u001b[0;34m\u001b[0m\u001b[0m\n\u001b[1;32m    980\u001b[0m                                    \u001b[0mcheck_batch_dim\u001b[0m\u001b[0;34m=\u001b[0m\u001b[0;32mFalse\u001b[0m\u001b[0;34m,\u001b[0m\u001b[0;34m\u001b[0m\u001b[0m\n\u001b[0;32m--> 981\u001b[0;31m                                    exception_prefix='model input')\n\u001b[0m\u001b[1;32m    982\u001b[0m         y = standardize_input_data(y, self.output_names,\n\u001b[1;32m    983\u001b[0m                                    \u001b[0moutput_shapes\u001b[0m\u001b[0;34m,\u001b[0m\u001b[0;34m\u001b[0m\u001b[0m\n",
      "\u001b[0;32m/home/kray/anaconda3/lib/python3.6/site-packages/keras/engine/training.py\u001b[0m in \u001b[0;36mstandardize_input_data\u001b[0;34m(data, names, shapes, check_batch_dim, exception_prefix)\u001b[0m\n\u001b[1;32m     52\u001b[0m                                  \u001b[0;34m'the following list of '\u001b[0m \u001b[0;34m+\u001b[0m \u001b[0mstr\u001b[0m\u001b[0;34m(\u001b[0m\u001b[0mlen\u001b[0m\u001b[0;34m(\u001b[0m\u001b[0mdata\u001b[0m\u001b[0;34m)\u001b[0m\u001b[0;34m)\u001b[0m \u001b[0;34m+\u001b[0m\u001b[0;34m\u001b[0m\u001b[0m\n\u001b[1;32m     53\u001b[0m                                  \u001b[0;34m' arrays: '\u001b[0m \u001b[0;34m+\u001b[0m \u001b[0mstr\u001b[0m\u001b[0;34m(\u001b[0m\u001b[0mdata\u001b[0m\u001b[0;34m)\u001b[0m\u001b[0;34m[\u001b[0m\u001b[0;34m:\u001b[0m\u001b[0;36m200\u001b[0m\u001b[0;34m]\u001b[0m \u001b[0;34m+\u001b[0m\u001b[0;34m\u001b[0m\u001b[0m\n\u001b[0;32m---> 54\u001b[0;31m                                  '...')\n\u001b[0m\u001b[1;32m     55\u001b[0m             \u001b[0;32melse\u001b[0m\u001b[0;34m:\u001b[0m\u001b[0;34m\u001b[0m\u001b[0m\n\u001b[1;32m     56\u001b[0m                 \u001b[0;32mif\u001b[0m \u001b[0mlen\u001b[0m\u001b[0;34m(\u001b[0m\u001b[0mnames\u001b[0m\u001b[0;34m)\u001b[0m \u001b[0;34m==\u001b[0m \u001b[0;36m1\u001b[0m\u001b[0;34m:\u001b[0m\u001b[0;34m\u001b[0m\u001b[0m\n",
      "\u001b[0;31mValueError\u001b[0m: Error when checking model input: the list of Numpy arrays that you are passing to your model is not the size the model expected. Expected to see 1 arrays but instead got the following list of 10 arrays: [array([[[7, 2, 3],\n        [7, 2, 3],\n        [8, 3, 4],\n        ..., \n        [5, 3, 2],\n        [5, 3, 2],\n        [8, 6, 5]],\n\n       [[6, 1, 2],\n        [6, 1, 2],\n        [5, 0, 1],\n        ...,..."
     ]
    }
   ],
   "source": [
    "# Fit the model\n",
    "model.fit(train_image_list, train_label_list, batch_size = 32, nb_epoch = 5, verbose = 1)\n",
    "\n",
    "# Final evaluation of the model\n",
    "scores = model.evaluate(train_data_path, validation_data_path, verbose = 0)\n",
    "print(\"CNN Error: %.2f%%\" % (100-scores[1]*100))"
   ]
  },
  {
   "cell_type": "code",
   "execution_count": null,
   "metadata": {
    "collapsed": true
   },
   "outputs": [],
   "source": [
    "model.save_weights('models/basic_cnn_1_epoch.h5')"
   ]
  },
  {
   "cell_type": "code",
   "execution_count": null,
   "metadata": {
    "collapsed": true
   },
   "outputs": [],
   "source": [
    "#Evaluating on validation set"
   ]
  },
  {
   "cell_type": "code",
   "execution_count": null,
   "metadata": {
    "collapsed": true
   },
   "outputs": [],
   "source": [
    "#Computing loss and accuracy \n",
    "model.evaluate_generator(validation_generator, nb_validation_samples)"
   ]
  },
  {
   "cell_type": "code",
   "execution_count": null,
   "metadata": {
    "collapsed": true
   },
   "outputs": [],
   "source": [
    "#Data augmentation for improving model by applying random transformation to the train set. \n",
    "#reduces overfitting "
   ]
  },
  {
   "cell_type": "markdown",
   "metadata": {},
   "source": [
    "# Confusion Matrix"
   ]
  },
  {
   "cell_type": "markdown",
   "metadata": {},
   "source": [
    "# Next Steps"
   ]
  },
  {
   "cell_type": "markdown",
   "metadata": {},
   "source": [
    "1. Create an ensembe with pre-trained models: VGG16, ResNet_V2, and Inception_V3, then fine tune the top layers of the pre-trained networks. \n",
    "https://gihub.com/tensorflow/models/blob/master/slim/README.md#Pretrained\n",
    "\n",
    "2. Experiment with more k-folds on the training images\n",
    "\n",
    "3. Explore bounding box annotations \n",
    "\n",
    "4. Train and test the improved model on the additional images and second relase images\n",
    "\n",
    "5. Incorrporate additional visualizations"
   ]
  }
 ],
 "metadata": {
  "anaconda-cloud": {},
  "kernelspec": {
   "display_name": "Python 3",
   "language": "python",
   "name": "python3"
  },
  "language_info": {
   "codemirror_mode": {
    "name": "ipython",
    "version": 3
   },
   "file_extension": ".py",
   "mimetype": "text/x-python",
   "name": "python",
   "nbconvert_exporter": "python",
   "pygments_lexer": "ipython3",
   "version": "3.6.0"
  }
 },
 "nbformat": 4,
 "nbformat_minor": 1
}
